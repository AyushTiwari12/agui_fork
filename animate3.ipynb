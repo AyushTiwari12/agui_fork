{
 "cells": [
  {
   "cell_type": "markdown",
   "id": "a5baa428",
   "metadata": {},
   "source": [
    "# Animations\n",
    "\n",
    "following the examples in\n",
    "http://louistiao.me/posts/notebooks/embedding-matplotlib-animations-in-jupyter-as-interactive-javascript-widgets/\n",
    "the animation2 script is loosely copied below"
   ]
  },
  {
   "cell_type": "code",
   "execution_count": null,
   "id": "a04b52e0",
   "metadata": {},
   "outputs": [],
   "source": [
    "#  %matplotlib inline\n",
    "%matplotlib notebook"
   ]
  },
  {
   "cell_type": "code",
   "execution_count": null,
   "id": "2f987100",
   "metadata": {},
   "outputs": [],
   "source": [
    "import glob\n",
    "import numpy as np\n",
    "import matplotlib.pyplot as plt\n",
    "\n",
    "from matplotlib import rc\n",
    "from IPython.display import HTML\n",
    "\n",
    "from matplotlib.animation import FuncAnimation"
   ]
  },
  {
   "cell_type": "code",
   "execution_count": null,
   "id": "5559a2c0",
   "metadata": {},
   "outputs": [],
   "source": [
    "def xycols(fname, xcol, ycol):\n",
    "    \"\"\"\n",
    "    translate column names into 1-based column numbers\n",
    "    \"\"\"\n",
    "    lines = open(fname).readlines()\n",
    "    cols = lines[1].split()\n",
    "    print('DEBUG: ',cols[1:])\n",
    "    ixcol = cols.index(xcol)\n",
    "    iycol = cols.index(ycol)\n",
    "    print('DEBUG: ',ixcol,iycol)\n",
    "    return (ixcol,iycol)\n"
   ]
  },
  {
   "cell_type": "code",
   "execution_count": null,
   "id": "441db5d6",
   "metadata": {},
   "outputs": [],
   "source": [
    "# function that draws each frame of the animation\n",
    "def animate(i):\n",
    "    # print(f[i])\n",
    "    d = np.loadtxt(f[i]).T\n",
    "    x = d[xcol-1]\n",
    "    y = d[ycol-1]\n",
    "    \n",
    "    ax.clear()\n",
    "    ax.plot(x, y)\n",
    "    #ax.set_xlim([0,20])\n",
    "    #ax.set_ylim([0,10])\n",
    "    ax.set_title(f[i])\n"
   ]
  },
  {
   "cell_type": "code",
   "execution_count": null,
   "id": "693fd3df",
   "metadata": {},
   "outputs": [],
   "source": [
    "rc('animation', html='jshtml')"
   ]
  },
  {
   "cell_type": "code",
   "execution_count": null,
   "id": "734a27f6",
   "metadata": {},
   "outputs": [],
   "source": [
    "# get the filenames, make sure they are sorted in time\n",
    "fnames='run1/tab/LinWave*tab'\n",
    "f = glob.glob(fnames)\n",
    "f.sort()\n",
    "print('DEBUG: %s has %d files' % (fnames,len(f)))\n"
   ]
  },
  {
   "cell_type": "code",
   "execution_count": null,
   "id": "ccfb45f8",
   "metadata": {},
   "outputs": [],
   "source": [
    "# 1-based columns numbers from the column names\n",
    "(xcol,ycol) = xycols(f[0],'x1v','velx')\n",
    "\n",
    "# delay in ms\n",
    "delay=100\n",
    "\n",
    "# create the figure and axes objects\n",
    "fig, ax = plt.subplots();"
   ]
  },
  {
   "cell_type": "code",
   "execution_count": null,
   "id": "450c2208",
   "metadata": {},
   "outputs": [],
   "source": [
    "# run the animation\n",
    "ani = FuncAnimation(fig, animate, frames=len(f), interval=delay, repeat=False)"
   ]
  },
  {
   "cell_type": "code",
   "execution_count": null,
   "id": "d55e71fc",
   "metadata": {},
   "outputs": [],
   "source": [
    "HTML(ani.to_html5_video())"
   ]
  }
 ],
 "metadata": {
  "kernelspec": {
   "display_name": "Python 3 (ipykernel)",
   "language": "python",
   "name": "python3"
  },
  "language_info": {
   "codemirror_mode": {
    "name": "ipython",
    "version": 3
   },
   "file_extension": ".py",
   "mimetype": "text/x-python",
   "name": "python",
   "nbconvert_exporter": "python",
   "pygments_lexer": "ipython3",
   "version": "3.9.13"
  }
 },
 "nbformat": 4,
 "nbformat_minor": 5
}
